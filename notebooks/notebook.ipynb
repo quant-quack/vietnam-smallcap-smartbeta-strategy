{
 "cells": [
  {
   "cell_type": "code",
   "execution_count": 35,
   "metadata": {},
   "outputs": [],
   "source": [
    "import sys\n",
    "sys.path.append('../src')\n",
    "\n",
    "import pandas as pd\n",
    "import numpy as np\n",
    "\n",
    "from utils.data_utils.data_handler import Handler\n",
    "from backtest.backtest import Backtest\n",
    "\n",
    "import time\n",
    "\n",
    "from glob import glob\n",
    "import shutil\n",
    "import logging"
   ]
  },
  {
   "cell_type": "code",
   "execution_count": 36,
   "metadata": {},
   "outputs": [],
   "source": [
    "benchmark_csv_dir = '../data/benchmark/dc_performance.csv'\n",
    "fundamental_csv_dir = '../data/fundamental_data/'\n",
    "historical_csv_dir = '../data/historical_data/'\n",
    "gics_csv_dir = '../data/gics/gics.csv'\n",
    "\n",
    "handl = Handler(benchmark_csv_dir, fundamental_csv_dir, historical_csv_dir, gics_csv_dir)"
   ]
  },
  {
   "cell_type": "code",
   "execution_count": 37,
   "metadata": {},
   "outputs": [],
   "source": [
    "benchmark = handl.get_benchmark_data() \n",
    "fun_data = handl.get_processed_fundamental_data() \n",
    "hist_data = handl.get_processed_historical_data() "
   ]
  },
  {
   "cell_type": "code",
   "execution_count": 38,
   "metadata": {},
   "outputs": [],
   "source": [
    "def get_transform_data(benchmark, fun_data, hist_data, start_time='2013-12-31'): \n",
    "    idx = pd.IndexSlice\n",
    "    daily = hist_data.copy()\n",
    "    \n",
    "    long_daily = daily.reset_index().set_index(['time', 'ticker'])\n",
    "    long_daily['r'] = long_daily.groupby(level=1)['close'].transform(lambda x: x.pct_change())\n",
    "\n",
    "    monthly_close = long_daily.unstack()['close'].resample('ME').last().stack(future_stack=True).to_frame(name='close')\n",
    "    monthly_vol = long_daily.unstack()['volume'].resample('ME').sum().stack(future_stack=True).to_frame(name='volume')\n",
    "    monthly_ret = monthly_close.unstack()['close'].pct_change().stack(future_stack=True).to_frame(name='r')\n",
    "\n",
    "    long_monthly = pd.merge(monthly_vol, monthly_ret, how='inner', left_index=True, right_index=True)\n",
    "    long_monthly = pd.merge(long_monthly, monthly_close, how='inner', left_index=True, right_index=True)\n",
    "    long_monthly['yearReport'] = long_monthly.index.get_level_values(0).year\n",
    "    long_monthly['lengthReport'] = long_monthly.index.get_level_values(0).quarter\n",
    "\n",
    "    long_monthly = long_monthly.loc[idx[start_time:, :], :]\n",
    "    long_monthly = long_monthly.reset_index()\n",
    "\n",
    "    long_monthly = pd.merge(long_monthly, fun_data, how='left', on=['ticker', 'yearReport', 'lengthReport'])\n",
    "    long_monthly = pd.merge(long_monthly, benchmark, how='left', on=['time'])\n",
    "    long_monthly['book_to_market'] = 1 / long_monthly['P/B']\n",
    "    long_monthly['log_mcap'] = np.log(long_monthly['close']*long_monthly['Outstanding Share'])\n",
    "\n",
    "    long_monthly = long_monthly.set_index(['time', 'ticker'])\n",
    "    long_daily = long_daily.sort_index(level=0)\n",
    "    \n",
    "    return long_daily, long_monthly"
   ]
  },
  {
   "cell_type": "code",
   "execution_count": 39,
   "metadata": {},
   "outputs": [
    {
     "name": "stderr",
     "output_type": "stream",
     "text": [
      "/tmp/ipykernel_169456/2955078845.py:6: FutureWarning: The default fill_method='pad' in Series.pct_change is deprecated and will be removed in a future version. Either fill in any non-leading NA values prior to calling pct_change or specify 'fill_method=None' to not fill NA values.\n",
      "  long_daily['r'] = long_daily.groupby(level=1)['close'].transform(lambda x: x.pct_change())\n",
      "/tmp/ipykernel_169456/2955078845.py:10: FutureWarning: The default fill_method='pad' in DataFrame.pct_change is deprecated and will be removed in a future version. Either fill in any non-leading NA values prior to calling pct_change or specify 'fill_method=None' to not fill NA values.\n",
      "  monthly_ret = monthly_close.unstack()['close'].pct_change().stack(future_stack=True).to_frame(name='r')\n",
      "/root/quant-trading/principle-component-mommentum/.venv/lib/python3.12/site-packages/pandas/core/arraylike.py:399: RuntimeWarning: divide by zero encountered in log\n",
      "  result = getattr(ufunc, method)(*inputs, **kwargs)\n"
     ]
    }
   ],
   "source": [
    "long_daily, long_monthly = get_transform_data(benchmark, fun_data, hist_data, start_time='2014-01-01')"
   ]
  },
  {
   "cell_type": "code",
   "execution_count": 40,
   "metadata": {},
   "outputs": [],
   "source": [
    "bt = Backtest(long_daily, long_monthly)"
   ]
  },
  {
   "cell_type": "code",
   "execution_count": 41,
   "metadata": {},
   "outputs": [],
   "source": [
    "past_formation_dfs, future_holding_dfs = bt.get_rolling_df()"
   ]
  },
  {
   "cell_type": "code",
   "execution_count": null,
   "metadata": {},
   "outputs": [
    {
     "name": "stdout",
     "output_type": "stream",
     "text": [
      "Period: 0\n",
      "Period: 1\n",
      "Period: 2\n",
      "Period: 3\n",
      "Period: 4\n",
      "Period: 5\n",
      "Period: 6\n",
      "Period: 7\n",
      "Period: 8\n",
      "Period: 9\n",
      "Period: 10\n",
      "Period: 11\n",
      "Period: 12\n",
      "Period: 13\n",
      "Period: 14\n",
      "Period: 15\n",
      "Period: 16\n",
      "Period: 17\n",
      "Period: 18\n",
      "Period: 19\n",
      "Period: 20\n",
      "Period: 21\n",
      "Period: 22\n",
      "Period: 23\n",
      "Period: 24\n",
      "Period: 25\n",
      "Period: 26\n",
      "Period: 27\n",
      "Period: 28\n",
      "Period: 29\n",
      "Period: 30\n",
      "Period: 31\n",
      "Period: 32\n",
      "Period: 33\n",
      "Period: 34\n",
      "Period: 35\n",
      "Period: 36\n",
      "Period: 37\n",
      "Period: 38\n",
      "Period: 39\n",
      "Period: 40\n",
      "Period: 41\n",
      "Period: 42\n",
      "Period: 43\n",
      "Period: 44\n",
      "Period: 45\n",
      "Period: 46\n",
      "Period: 47\n",
      "Period: 48\n",
      "Period: 49\n",
      "Period: 50\n",
      "Period: 51\n",
      "Period: 52\n",
      "Period: 53\n",
      "Period: 54\n",
      "Period: 55\n",
      "Period: 56\n",
      "Period: 57\n",
      "Period: 58\n",
      "Period: 59\n",
      "Period: 60\n",
      "Period: 61\n",
      "Period: 62\n",
      "Period: 63\n",
      "Period: 64\n",
      "Period: 65\n",
      "Period: 66\n",
      "Period: 67\n",
      "Period: 68\n",
      "Period: 69\n",
      "Period: 70\n",
      "Period: 71\n",
      "Period: 72\n",
      "Period: 73\n",
      "Period: 74\n",
      "Period: 75\n",
      "Period: 76\n",
      "Period: 77\n",
      "Period: 78\n",
      "Period: 79\n",
      "Period: 80\n",
      "Period: 81\n",
      "Period: 82\n",
      "Period: 83\n",
      "Period: 84\n",
      "Period: 85\n",
      "Period: 86\n",
      "Period: 87\n",
      "Period: 88\n",
      "Period: 89\n",
      "Period: 90\n",
      "Period: 91\n",
      "Period: 92\n",
      "Period: 93\n",
      "Period: 94\n",
      "Period: 95\n",
      "Period: 96\n",
      "Period: 97\n",
      "Period: 98\n",
      "Period: 99\n",
      "Period: 100\n",
      "Period: 101\n",
      "Period: 102\n",
      "Period: 103\n",
      "Period: 104\n",
      "Period: 105\n",
      "Period: 106\n",
      "Period: 107\n",
      "Period: 108\n"
     ]
    }
   ],
   "source": [
    "def filter_condition_1(df): \n",
    "    idx = pd.IndexSlice\n",
    "    tmp = df.copy()\n",
    "    selected_stocks = set(tmp['book_to_market'].dropna(axis=1).columns)\n",
    "    \n",
    "    return selected_stocks\n",
    "\n",
    "def filter_condition_2(df): \n",
    "    idx = pd.IndexSlice\n",
    "    tmp = df.copy()\n",
    "    \n",
    "    # 1. All return data to calculate the momentum measures in the subperiod are available \n",
    "    selected_stocks = set(tmp['r'].dropna(axis=1).columns)\n",
    "\n",
    "    # 2. All price data and the number of shares ourstanding in the past period are available to calculate investment weight and market capitalization \n",
    "    selected_stocks = selected_stocks.intersection(tmp['log_mcap'].dropna(axis=1).columns)\n",
    "\n",
    "    # 3. Among stocks with all trading volume data during the past formation period, stocks with valid non-zero return data on 50% or more trading days are available \n",
    "    check = long_daily.loc[idx[tmp.index.min()-pd.offsets.MonthEnd()+pd.DateOffset(1):tmp.index.max(), :], :].unstack()\n",
    "    na_less_than_5_pct = (check['volume'].isnull().sum() / len(check) < .05)\n",
    "    satis_cond = na_less_than_5_pct[na_less_than_5_pct == True].index\n",
    "    selected_stocks = selected_stocks.intersection(check['volume'][satis_cond].dropna(axis=0).columns)\n",
    "\n",
    "    valid_df = (check['r'][list(selected_stocks)].eq(0).sum() / len(check['r'][list(selected_stocks)]) < .5).to_frame(name='valid_r')\n",
    "    selected_stocks = set(valid_df[valid_df['valid_r'] == True].index)\n",
    "    \n",
    "    return selected_stocks\n",
    "\n",
    "def filter_condition_3(df, stocks):\n",
    "    idx = pd.IndexSlice\n",
    "    tmp = df.copy()\n",
    "    stocks = list(stocks)\n",
    "\n",
    "    check = tmp.loc[:, idx[:, stocks]]\n",
    "    daily_subset = long_daily.loc[idx[tmp.index.min()-pd.offsets.MonthEnd()+pd.DateOffset(1):tmp.index.max(), :], :].unstack()['r'][stocks]\n",
    "    \n",
    "    volatility = daily_subset.replace(np.inf, np.nan).std()\n",
    "    mcap = check['log_mcap'].iloc[-1]\n",
    "\n",
    "    # 1. Exclude stocks with extreme volatility\n",
    "    volatility_95th_percentile = volatility.quantile(.95)\n",
    "    valid_volatility = (volatility <= volatility_95th_percentile).to_frame(name='valid_vol')\n",
    "    filtered_volatility = set(valid_volatility[valid_volatility['valid_vol'] == True].index)\n",
    "\n",
    "    # 2. Exclude micro-small firms\n",
    "    mcap_5th_percentile = mcap.quantile(.05)\n",
    "    valid_mcap = (mcap >= mcap_5th_percentile).to_frame(name='valid_cap')\n",
    "    filtered_mcap = set(valid_mcap[valid_mcap['valid_cap'] == True].index)\n",
    "    \n",
    "    selected_stocks = filtered_volatility.intersection(filtered_mcap)\n",
    "    \n",
    "    return selected_stocks\n",
    "\n",
    "\n",
    "def get_stock_selected_in_subperiod(dfs):\n",
    "    subperiod_selected_stocks = []\n",
    "    \n",
    "    pass_cond2_tmp = []\n",
    "    \n",
    "    for i, period in enumerate(dfs): \n",
    "        print(f\"Period: {i}\")\n",
    "        # Filter condition 1\n",
    "        passed_cond_1 = filter_condition_1(period)\n",
    "\n",
    "        # Filter condition 2\n",
    "        passed_cond_2 = passed_cond_1.intersection(filter_condition_2(period))\n",
    "\n",
    "        # Filter condition 3\n",
    "        passed_cond_3 = filter_condition_3(period, passed_cond_2) # => Runtime warning come from condition 3\n",
    "        \n",
    "        subperiod_selected_stocks.append(list(passed_cond_3))\n",
    "\n",
    "    return subperiod_selected_stocks\n",
    "        \n",
    "subperiod_selected_stocks = get_stock_selected_in_subperiod(past_formation_dfs)"
   ]
  },
  {
   "cell_type": "code",
   "execution_count": 65,
   "metadata": {},
   "outputs": [
    {
     "data": {
      "text/plain": [
       "450"
      ]
     },
     "execution_count": 65,
     "metadata": {},
     "output_type": "execute_result"
    }
   ],
   "source": [
    "len(subperiod_selected_stocks[23])"
   ]
  },
  {
   "cell_type": "code",
   "execution_count": 95,
   "metadata": {},
   "outputs": [
    {
     "name": "stderr",
     "output_type": "stream",
     "text": [
      "/root/quant-trading/principle-component-mommentum/.venv/lib/python3.12/site-packages/pandas/core/nanops.py:1016: RuntimeWarning: invalid value encountered in subtract\n",
      "  sqr = _ensure_numeric((avg - values) ** 2)\n"
     ]
    }
   ],
   "source": [
    "idx = pd.IndexSlice\n",
    "\n",
    "stocks = subperiod_selected_stocks[23]\n",
    "tmp =  past_formation_dfs[23]\n",
    "\n",
    "check = tmp.loc[:, idx[:, stocks]]\n",
    "daily_subset = long_daily.loc[idx[tmp.index.min()-pd.offsets.MonthEnd()+pd.DateOffset(1):tmp.index.max(), :], :].unstack()['r'][stocks]\n",
    "\n",
    "volatility = daily_subset.std()"
   ]
  }
 ],
 "metadata": {
  "kernelspec": {
   "display_name": ".venv",
   "language": "python",
   "name": "python3"
  },
  "language_info": {
   "codemirror_mode": {
    "name": "ipython",
    "version": 3
   },
   "file_extension": ".py",
   "mimetype": "text/x-python",
   "name": "python",
   "nbconvert_exporter": "python",
   "pygments_lexer": "ipython3",
   "version": "3.12.3"
  }
 },
 "nbformat": 4,
 "nbformat_minor": 2
}
